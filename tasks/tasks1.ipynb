{
 "cells": [
  {
   "cell_type": "markdown",
   "id": "603ac0a1",
   "metadata": {},
   "source": [
    "# Computer Vision Assignments: Sessions 1 & 2\n",
    "\n",
    "This notebook contains tasks and assignments based on Sessions 1 and 2. You are required to implement the functions and complete the exercises as described. Use OpenCV and other necessary libraries like NumPy and Matplotlib.\n",
    "\n",
    "**Instructions:**\n",
    "- Complete each task in the provided code cells.\n",
    "- Test your implementations with sample images (e.g., download test images [here](https://sipi.usc.edu/database/database.php?volume=misc) or [here](https://www.hlevkin.com/hlevkin/06testimages.htm) or use your own test images).\n",
    "- Include comments in your code for clarity.\n",
    "- Display results using cv2.imshow() or Matplotlib where appropriate.\n",
    "- Submit the completed notebook along with any output images or explanations on [our google drive for the CV sessions](https://drive.google.com/drive/folders/1IjVhJmAXxNQTGT-ybJ-yc5smYtR5v8CO?usp=sharing) **upload your files in a new folder under your name**\n",
    "\n",
    "## Session 1: Basic Image Operations (Reading, Resizing, Cropping, Rotating)\n",
    "\n",
    "### Task 1: Read and Display an Image\n",
    "Read an image from a file and display it in both BGR and grayscale formats. Handle errors if the image cannot be read."
   ]
  },
  {
   "cell_type": "code",
   "execution_count": null,
   "metadata": {},
   "outputs": [],
   "source": [
    "import cv2 as cv\n",
    "import numpy as np\n",
    "import sys\n",
    "import matplotlib.pyplot as plt\n",
    "%matplotlib inline\n",
    "\n",
    "# Your code here\n",
    "path = r'E:\\VisionCourse2023\\Session0\\images\\A1_loonie.jpg'  # Replace with your image path\n",
    "\n",
    "# Read in BGR\n",
    "\n",
    "# Read in Grayscale\n",
    "\n",
    "# Display both using cv.imshow() or plt.imshow()"
   ]
  },
  {
   "cell_type": "markdown",
   "metadata": {},
   "source": [
    "### Task 2: Resize Image with Aspect Ratio Preservation\n",
    "Implement resizing while preserving aspect ratio. Downscale to 60% and upscale to 200%. Compare shapes and display originals vs resized."
   ]
  },
  {
   "cell_type": "code",
   "execution_count": null,
   "metadata": {},
   "outputs": [],
   "source": [
    "# Your code here\n",
    "# Load image\n",
    "\n",
    "# Downscale to 60%\n",
    "\n",
    "# Upscale to 200%\n",
    "\n",
    "# Display all three"
   ]
  },
  {
   "cell_type": "markdown",
   "metadata": {},
   "source": [
    "### Task 3: Resize Without Preserving Aspect Ratio\n",
    "Resize only width to 100 pixels, only height to 200 pixels, and both to (200, 200). Display and discuss distortions."
   ]
  },
  {
   "cell_type": "code",
   "execution_count": null,
   "metadata": {},
   "outputs": [],
   "source": [
    "# Your code here"
   ]
  },
  {
   "cell_type": "markdown",
   "metadata": {},
   "source": [
    "### Task 4: Resize Using Scale Factors (fx, fy)\n",
    "Scale up by 1.2 in both directions and down by 0.6. Use different interpolations (INTER_LINEAR, INTER_NEAREST) and compare quality."
   ]
  },
  {
   "cell_type": "code",
   "execution_count": null,
   "metadata": {},
   "outputs": [],
   "source": [
    "# Your code here\n",
    "# Experiment with interpolations"
   ]
  },
  {
   "cell_type": "markdown",
   "metadata": {},
   "source": [
    "### Task 5: Cropping an Image\n",
    "Crop a region (e.g., [20:200, 50:200]) from the image. Display original and cropped."
   ]
  },
  {
   "cell_type": "code",
   "execution_count": null,
   "metadata": {},
   "outputs": [],
   "source": [
    "# Your code here"
   ]
  },
  {
   "cell_type": "markdown",
   "metadata": {},
   "source": [
    "### Task 6: Advanced Cropping - Patch Image into Blocks\n",
    "Divide the image into 4 equal blocks (2x2 grid) by cropping. Display each block separately and then stitch them back using NumPy concatenation to verify."
   ]
  },
  {
   "cell_type": "code",
   "execution_count": null,
   "metadata": {},
   "outputs": [],
   "source": [
    "# Your code here\n",
    "# Calculate midpoints for height and width\n",
    "\n",
    "# Crop into top-left, top-right, bottom-left, bottom-right\n",
    "\n",
    "# Display each\n",
    "\n",
    "# Stitch back (use np.hstack and np.vstack)"
   ]
  },
  {
   "cell_type": "markdown",
   "metadata": {},
   "source": [
    "### Task 7: Rotating an Image\n",
    "Rotate the image by 45°, 90°, and 180° using getRotationMatrix2D and warpAffine. Display all rotations."
   ]
  },
  {
   "cell_type": "code",
   "execution_count": null,
   "metadata": {},
   "outputs": [],
   "source": [
    "# Your code here\n",
    "# Calculate center\n",
    "\n",
    "# For each angle: get matrix, warp, display"
   ]
  },
  {
   "cell_type": "markdown",
   "metadata": {},
   "source": [
    "### Task 8: Rotate with Scaling\n",
    "Rotate by 45° and scale by 0.5 in **one** operation. Compare with separate resize and rotate."
   ]
  },
  {
   "cell_type": "code",
   "execution_count": null,
   "metadata": {},
   "outputs": [],
   "source": [
    "# Your code here"
   ]
  },
  {
   "cell_type": "markdown",
   "metadata": {},
   "source": [
    "## Session 2: Image Acquisition, Formats, Color Spaces, Enhancement, and Filtering\n",
    "\n",
    "### Task 9: Read Image in Different Color Spaces\n",
    "Read an image in BGR, convert to RGB (for Matplotlib), HSV, LAB and Grayscale. Display all."
   ]
  },
  {
   "cell_type": "code",
   "execution_count": null,
   "metadata": {},
   "outputs": [],
   "source": [
    "# Your code here\n",
    "# Use cv.cvtColor()"
   ]
  },
  {
   "cell_type": "markdown",
   "metadata": {},
   "source": [
    "### Task 10: Image Sharpening\n",
    "Apply cv2.blur() with a 5x5 kernel, then use cv2.filter2D() with sharpening kernels of varying strengths (e.g., [[0, -1, 0], [-1, 5, -1], [0, -1, 0]] and [[0, -2, 0], [-2, 9, -2], [0, -2, 0]]).\n",
    "Compare between original and sharpened image after blurring."
   ]
  },
  {
   "cell_type": "code",
   "execution_count": null,
   "metadata": {},
   "outputs": [],
   "source": [
    "# Your code here\n",
    "# Use cv2.blur\n",
    "# Define sharpen kernel, use cv.filter2D()"
   ]
  },
  {
   "cell_type": "markdown",
   "metadata": {},
   "source": [
    "### Task 11: Add Salt and Pepper Noise to Image\n",
    "Implement a function to add salt and pepper noise to an image. Control noise density (e.g., 0.05)."
   ]
  },
  {
   "cell_type": "code",
   "execution_count": null,
   "metadata": {},
   "outputs": [],
   "source": [
    "# Your code here\n",
    "def add_salt_pepper_noise(image, density=0.05):\n",
    "    # Implement using random pixels set to 0 or 255\n",
    "    pass\n",
    "\n",
    "# Apply to an image and display"
   ]
  },
  {
   "cell_type": "markdown",
   "metadata": {},
   "source": [
    "### Task 12: Remove Salt and Pepper Noise Using Median Filter\n",
    "Apply cv.medianBlur() to a noisy image. Experiment with kernel sizes (3,5,7) and compare results."
   ]
  },
  {
   "cell_type": "code",
   "execution_count": null,
   "metadata": {},
   "outputs": [],
   "source": [
    "# Your code here"
   ]
  },
  {
   "cell_type": "markdown",
   "metadata": {},
   "source": [
    "### Task 13: Implement Adaptive Median Filter\n",
    "Write a custom function for adaptive median filtering. It should dynamically increase window size until noise is removed or max size is reached. Apply to a noisy image and compare with standard median."
   ]
  },
  {
   "cell_type": "code",
   "execution_count": null,
   "metadata": {},
   "outputs": [],
   "source": [
    "# Your code here\n",
    "def adaptive_median_filter(image, max_size=7):\n",
    "    # Implement logic: for each pixel, start with small window, increase if needed\n",
    "    pass\n",
    "\n",
    "# Test on noisy image"
   ]
  },
  {
   "cell_type": "markdown",
   "metadata": {},
   "source": [
    "### Task 14: Implement Bilateral Filter Function\n",
    "Write a Python function to perform bilateral filtering on an image. Use Gaussian weights for both spatial and intensity. Parameters: diameter, sigma_color, sigma_space. Compare with cv.bilateralFilter()."
   ]
  },
  {
   "cell_type": "code",
   "execution_count": null,
   "metadata": {},
   "outputs": [],
   "source": [
    "# Your code here\n",
    "def custom_bilateral_filter(image, diameter, sigma_color, sigma_space):\n",
    "    # Implement using nested loops or vectorized (efficiently)\n",
    "    # For each pixel, compute weighted sum based on distance and intensity diff\n",
    "    pass\n",
    "\n",
    "# Apply to image, display, and compare with OpenCV's version"
   ]
  },
  {
   "cell_type": "markdown",
   "metadata": {},
   "source": [
    "### [BONUS] Task 15: Comprehensive Camera Task \n",
    "Combine: Live camera feed -> grayscale -> add noise -> remove with median -> sharpen. Display all stages in separate windows."
   ]
  },
  {
   "cell_type": "code",
   "execution_count": null,
   "metadata": {},
   "outputs": [],
   "source": [
    "# To read video from camera example:\n",
    "\n",
    "camera_id = 0\n",
    "delay = 400\n",
    "window_name = 'frame'\n",
    "\n",
    "cap = cv.VideoCapture(camera_id)\n",
    "\n",
    "if not cap.isOpened():\n",
    "    sys.exit()\n",
    "\n",
    "while cap.isOpened():\n",
    "    ret, frame = cap.read()\n",
    "    if not ret:\n",
    "        break\n",
    "\n",
    "    cv.imshow(window_name, frame)\n",
    "    if cv.waitKey(delay) & 0xFF == ord('q'):\n",
    "        break\n",
    "\n",
    "cap.release()\n",
    "cv.destroyWindow(window_name)\n",
    "\n",
    "\n",
    "# Your code here"
   ]
  },
  {
   "cell_type": "markdown",
   "metadata": {},
   "source": [
    "### [BONUS]Task 16: Comprehensive Video Task\n",
    "Similar to Task 18 but for a video file. Save the final processed video."
   ]
  },
  {
   "cell_type": "code",
   "execution_count": null,
   "metadata": {},
   "outputs": [],
   "source": [
    "# Your code here"
   ]
  },
  {
   "cell_type": "markdown",
   "metadata": {},
   "source": [
    "### Task 17: Performance Comparison\n",
    "Time the execution of standard median vs adaptive median on a large noisy image. Discuss when adaptive median filter is better."
   ]
  },
  {
   "cell_type": "code",
   "execution_count": null,
   "metadata": {},
   "outputs": [],
   "source": [
    "import time\n",
    "# Your code here\n",
    "# Use time.time() to measure"
   ]
  }
 ],
 "metadata": {
  "kernelspec": {
   "display_name": "Python 3",
   "language": "python",
   "name": "python3"
  },
  "language_info": {
   "codemirror_mode": {
    "name": "ipython",
    "version": 3
   },
   "file_extension": ".py",
   "mimetype": "text/x-python",
   "name": "python",
   "nbconvert_exporter": "python",
   "pygments_lexer": "ipython3",
   "version": "3.9.13"
  }
 },
 "nbformat": 4,
 "nbformat_minor": 5
}
